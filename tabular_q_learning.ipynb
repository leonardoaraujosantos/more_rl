{
 "cells": [
  {
   "cell_type": "markdown",
   "metadata": {},
   "source": [
    "## Tabular Q-Learning\n",
    "This example will implement the tabular Q-Learning algorithm from scratch. This algorithm will train an agent to act on the Taxi Driver environment.\n",
    "Q-Learning attempts to learn the value of taking a specific action in some state by holding a table that is updated at every iteraction with the environment.\n",
    "\n",
    "Before start let's remember Q-learning algorithm has the following characteristics:\n",
    "* Pure RL: No model of the environment is given to the agent, just rewards and states after some action\n",
    "* Value-Based: Estimate the Q-value table values by interaction\n",
    "* Off-Policy: Separate policy for training(e-greedy) and playing(greedy)\n",
    "* Tabular: On this case there is no Neural-Network\n",
    "\n",
    "### Limitation of Tabular based Value functions\n",
    "Tabular algorithms will only work with Discrete Action and Observation spaces.\n",
    "\n",
    "![alt text](./imgs/Q_LearningSummary.png \"Game\")\n",
    "\n",
    "### The Game\n",
    "The taxi game is quite simple basically you pick up he passanger at the Blue letter and bring the the Cyan letter.\n",
    "![alt text](./imgs/TaxiDriverAI.gif \"Game\")\n",
    "The map is 5x5 and we have the following available states:\n",
    "* Pickup\n",
    "* Drop\n",
    "* North, East, South, West\n",
    "On the enviroment there will be 4 possible destinations (R,G,Y,B) and 5 passanger locations if you consider the state \"inside the car\". Also the enviroment gives -1 penalty of the taxi tries to go outside the maze. \n",
    "\n",
    "#### States\n",
    "Considering the information above we will calculate our number of states with the following information:\n",
    "* Grid_X, and Grid_Y (5x5)\n",
    "* Possible Destinations (4)\n",
    "* Possible Locations (5)\n",
    "So totally we will have 5x5x5x4=500 states. \n",
    "\n",
    "### Q-Table\n",
    "The Q table will hold an estimate of the value of every action on each state that gets better with more iterations.\n",
    "Our Q-Table pre-initialized with zeros will look like this:\n",
    "![alt text](./imgs/Q_Taxi_States.png \"Q-Table\")\n",
    "\n",
    "### Q-Learning update equation\n",
    "After each iteration with the environment you can update the table using the following equation:\n",
    "![alt text](./imgs/FormulaExposed.png \"Game\")\n",
    "\n",
    "### References\n",
    "* https://en.wikipedia.org/wiki/Q-learning\n",
    "* https://en.wikipedia.org/wiki/State–action–reward–state–action\n",
    "* https://towardsdatascience.com/reinforcement-learning-with-python-8ef0242a2fa2\n",
    "* https://github.com/MartinThoma/LaTeX-examples/tree/master/source-code/Pseudocode/q-learning\n",
    "* https://github.com/dennybritz/reinforcement-learning\n",
    "* http://www.wildml.com/2016/10/learning-reinforcement-learning/\n",
    "* https://matplotlib.org/users/pyplot_tutorial.html\n",
    "* https://gym.openai.com/envs/Taxi-v2/\n",
    "* https://github.com/omerbsezer/Reinforcement_learning_tutorial_with_demo\n",
    "* https://medium.com/@m.alzantot/deep-reinforcement-learning-demysitifed-episode-2-policy-iteration-value-iteration-and-q-978f9e89ddaa\n",
    "* https://medium.freecodecamp.org/an-introduction-to-q-learning-reinforcement-learning-14ac0b4493cc\n",
    "* https://towardsdatascience.com/my-journey-to-reinforcement-learning-part-1-q-learning-with-table-35540020bcf9\n",
    "* https://github.com/openai/gym/wiki/Leaderboard"
   ]
  },
  {
   "cell_type": "markdown",
   "metadata": {},
   "source": [
    "### Include libraries\n",
    "On this example, basically we will need Numpy, OpenAI Gym, and Matplotlib"
   ]
  },
  {
   "cell_type": "code",
   "execution_count": 1,
   "metadata": {},
   "outputs": [],
   "source": [
    "import gym\n",
    "import numpy as np\n",
    "import random\n",
    "import time\n",
    "import matplotlib.pyplot as plt\n",
    "from IPython.display import clear_output"
   ]
  },
  {
   "cell_type": "markdown",
   "metadata": {},
   "source": [
    "### Initialize Enviroment and Hyper-Parameters\n",
    "This section will initialize the following things:\n",
    "* OpenAI enviroment\n",
    "* State Actions Value table (Q)\n",
    "* Alpha,Gama,Epsilon Hyper-parameters\n",
    "* Number of Episodes"
   ]
  },
  {
   "cell_type": "code",
   "execution_count": 2,
   "metadata": {},
   "outputs": [
    {
     "name": "stderr",
     "output_type": "stream",
     "text": [
      "/Users/leonardoaraujo/anaconda3/lib/python3.8/site-packages/ipykernel/ipkernel.py:287: DeprecationWarning: `should_run_async` will not call `transform_cell` automatically in the future. Please pass the result to `transformed_cell` argument and any exception that happen during thetransform in `preprocessing_exc_tuple` in IPython 7.17 and above.\n",
      "  and should_run_async(code)\n"
     ]
    },
    {
     "name": "stdout",
     "output_type": "stream",
     "text": [
      "OpenAI taxi environment\n",
      "Action space: Discrete(6)\n",
      "Observation space: Discrete(500)\n",
      "Action space discrete: True\n",
      "Observation space discrete: True\n",
      "Q-table shape: 500x6 intialized with zeros\n"
     ]
    }
   ],
   "source": [
    "# Init Taxi-V2 Env\n",
    "print('OpenAI taxi environment')\n",
    "env = gym.make(\"Taxi-v3\")\n",
    "#env = gym.make(\"FrozenLake-v0\")\n",
    "\n",
    "print('Action space:', env.action_space)\n",
    "print('Observation space:', env.observation_space)\n",
    "discrete_action_space = isinstance(env.action_space, gym.spaces.Discrete)\n",
    "discrete_observation_space = isinstance(env.observation_space, gym.spaces.Discrete)\n",
    "print('Action space discrete:', discrete_action_space)\n",
    "print('Observation space discrete:', discrete_observation_space)\n",
    "\n",
    "env.reset()\n",
    "env.render()\n",
    "\n",
    "# Initialize the state-action value(Q) table\n",
    "q_table = np.zeros([env.observation_space.n, env.action_space.n])\n",
    "print('Q-table shape: {}x{} intialized with zeros'.format(q_table.shape[0],q_table.shape[1]))\n",
    "\n",
    "# Hyperparameters\n",
    "alpha = 0.1 #0.8 0.2\n",
    "gamma = 0.95 # 0.95 0.9\n",
    "epsilon = 0.1\n",
    "\n",
    "# Number of games played from start to end\n",
    "num_episodes = 4000\n",
    "\n",
    "# Save the sum of rewards and steps on each episode\n",
    "arr_steps = np.zeros((num_episodes))\n",
    "arr_rewards = np.zeros((num_episodes))"
   ]
  },
  {
   "cell_type": "markdown",
   "metadata": {},
   "source": [
    "### Q-Learning Value Update\n",
    "Basically we need to apply this function to calculate the new value estimate on out state-action table. By the law of the large numbers, if we have enough iterations with the enviroment we will be able to have the optimum estimate.\n",
    "\n",
    "#### Value Update\n",
    "![alt text](./imgs/Q_learningUpdate.png \"Value Update\")"
   ]
  },
  {
   "cell_type": "code",
   "execution_count": 3,
   "metadata": {},
   "outputs": [
    {
     "name": "stderr",
     "output_type": "stream",
     "text": [
      "/Users/leonardoaraujo/anaconda3/lib/python3.8/site-packages/ipykernel/ipkernel.py:287: DeprecationWarning: `should_run_async` will not call `transform_cell` automatically in the future. Please pass the result to `transformed_cell` argument and any exception that happen during thetransform in `preprocessing_exc_tuple` in IPython 7.17 and above.\n",
      "  and should_run_async(code)\n"
     ]
    }
   ],
   "source": [
    "def Q_value_update(alpha, gamma, reward, old_value, next_state, Q_table):\n",
    "    # Estimate of the optimal future value is the value of the action with biggest Q-Value\n",
    "    estimate_fut_value = np.max(Q_table[next_state])\n",
    "\n",
    "    # Value Update (We need to inject this value back to the Q-table)\n",
    "    new_value = old_value + alpha * (reward + gamma * estimate_fut_value - old_value)\n",
    "    return new_value"
   ]
  },
  {
   "cell_type": "markdown",
   "metadata": {},
   "source": [
    "### Q-Learning training Loop\n",
    "![alt text](./imgs/Q_loop.png \"Game\")\n",
    "\n"
   ]
  },
  {
   "cell_type": "code",
   "execution_count": 4,
   "metadata": {},
   "outputs": [
    {
     "name": "stdout",
     "output_type": "stream",
     "text": [
      "Training finished.\n"
     ]
    }
   ],
   "source": [
    "# Iterate num_episodes\n",
    "for i in range(1, num_episodes):\n",
    "    state = env.reset()\n",
    "\n",
    "    # Init Vars\n",
    "    steps, penalties, reward, = 0, 0, 0\n",
    "    done = False\n",
    "\n",
    "    # Run an episode from begining to end(With many steps)\n",
    "    while not done:\n",
    "        # Epsilon-Greedy, sometimes we play random, sometimes we play greedy\n",
    "        if random.uniform(0, 1) < epsilon:\n",
    "            # Sample something from the action space\n",
    "            action = env.action_space.sample()\n",
    "        else:\n",
    "            # Just act greedly\n",
    "            action = np.argmax(q_table[state])\n",
    "\n",
    "        # Commincate with the enviroment (Act and get state, and rewards)\n",
    "        next_state, reward, done, info = env.step(action)\n",
    "\n",
    "        old_value = q_table[state, action]\n",
    "\n",
    "        # Value-Iteration update\n",
    "        q_table[state, action] = Q_value_update(alpha, gamma, reward, old_value, next_state, q_table)        \n",
    "\n",
    "        state = next_state\n",
    "        steps += 1\n",
    "        \n",
    "        # Save some information for graphs\n",
    "        arr_rewards[i] += reward\n",
    "    \n",
    "    # Store the number of steps on the episode\n",
    "    arr_steps[i] = steps \n",
    "\n",
    "    # Just display the current episode (Each episode could have multiple steps)\n",
    "    if i % 100 == 0:\n",
    "        print(\"Episode: {}/{}\".format(i,num_episodes))\n",
    "        clear_output(wait=True)\n",
    "\n",
    "print(\"Training finished.\")"
   ]
  },
  {
   "cell_type": "markdown",
   "metadata": {},
   "source": [
    "### Display some training information"
   ]
  },
  {
   "cell_type": "code",
   "execution_count": 5,
   "metadata": {},
   "outputs": [
    {
     "data": {
      "image/png": "[encoded data removed]",
      "text/plain": [
       "<Figure size 432x288 with 1 Axes>"
      ]
     },
     "metadata": {
      "needs_background": "light"
     },
     "output_type": "display_data"
    },
    {
     "data": {
      "image/png": "[encoded data removed]",
      "text/plain": [
       "<Figure size 432x288 with 1 Axes>"
      ]
     },
     "metadata": {
      "needs_background": "light"
     },
     "output_type": "display_data"
    }
   ],
   "source": [
    "plt.plot(arr_rewards)\n",
    "plt.title('Total Reward per Episode')\n",
    "plt.ylabel('Total Rewards')\n",
    "plt.xlabel('Episodes')\n",
    "plt.show()\n",
    "\n",
    "plt.plot(arr_steps)\n",
    "plt.title('Number of steps per Episode')\n",
    "plt.ylabel('Steps')\n",
    "plt.xlabel('Episodes')\n",
    "plt.show()"
   ]
  },
  {
   "cell_type": "markdown",
   "metadata": {},
   "source": [
    "### Agent after training\n",
    "After we have our Q-table complete we can just act greedly and get the action with maximim expected future reward"
   ]
  },
  {
   "cell_type": "code",
   "execution_count": 6,
   "metadata": {},
   "outputs": [
    {
     "name": "stdout",
     "output_type": "stream",
     "text": [
      "Step: 11\n"
     ]
    }
   ],
   "source": [
    "state = env.reset()\n",
    "done = False\n",
    "step = 0\n",
    "while not done:\n",
    "    action = np.argmax(q_table[state])\n",
    "    next_state, reward, done, info = env.step(action)\n",
    "    state = next_state\n",
    "    step += 1\n",
    "    print(\"Step: {}\".format(step))\n",
    "    env.render()\n",
    "    clear_output(wait=True)\n",
    "    time.sleep(0.2)"
   ]
  },
  {
   "cell_type": "markdown",
   "metadata": {},
   "source": [
    "### Frozen Lake Environment\n",
    "Now we're going to try the same algorithm on the FrozenLake environment. \n",
    "![alt text](./imgs/FrozenIlustration.png \"Game\")\n",
    "Here we have a 4x4 grid where the agent start at state S and finish at state G. The available actions are (UP/DOWN/LEFT/RIGHT).\n",
    "![alt text](./imgs/NotSlipperyFrozenLake.png \"Game\")\n",
    "On a normal grid you just need to do: (D,D,R,R,D,R). But the lake is frozen and your actions might make you land on another state. (Stochastic Environment)\n"
   ]
  },
  {
   "cell_type": "markdown",
   "metadata": {},
   "source": [
    "### Register the Not Frozen Environment\n",
    "On this case the actions will not be stochastic."
   ]
  },
  {
   "cell_type": "code",
   "execution_count": 7,
   "metadata": {},
   "outputs": [],
   "source": [
    "from gym.envs.registration import register\n",
    "register(\n",
    "    id='FrozenLakeNotSlippery-v0',\n",
    "    entry_point='gym.envs.toy_text:FrozenLakeEnv',\n",
    "    kwargs={'map_name' : '4x4', 'is_slippery': False},\n",
    "    max_episode_steps=2000,\n",
    "    reward_threshold=0.78, # optimum = .8196\n",
    ")"
   ]
  },
  {
   "cell_type": "markdown",
   "metadata": {},
   "source": [
    "### Initialize Enviroment and Hyper-Parameters\n",
    "This section will initialize the following things:\n",
    "* OpenAI enviroment\n",
    "* State Actions Value table (Q)\n",
    "* Alpha,Gama,Epsilon Hyper-parameters\n",
    "* Number of Episodes"
   ]
  },
  {
   "cell_type": "code",
   "execution_count": 10,
   "metadata": {},
   "outputs": [
    {
     "name": "stdout",
     "output_type": "stream",
     "text": [
      "Action space: Discrete(4)\n",
      "Observation space: Discrete(16)\n",
      "Action space discrete: True\n",
      "Observation space discrete: True\n",
      "Q-table shape: 16x4 intialized with zeros\n"
     ]
    },
    {
     "name": "stderr",
     "output_type": "stream",
     "text": [
      "/Users/leonardoaraujo/anaconda3/lib/python3.8/site-packages/gym/core.py:200: DeprecationWarning: \u001b[33mWARN: Function `env.seed(seed)` is marked as deprecated and will be removed in the future. Please use `env.reset(seed=seed)` instead.\u001b[0m\n",
      "  deprecation(\n"
     ]
    }
   ],
   "source": [
    "# Create environment and Q-table\n",
    "env = gym.make('FrozenLake-v1')\n",
    "env.seed(0)\n",
    "np.random.seed(56776)\n",
    "\n",
    "print('Action space:', env.action_space)\n",
    "print('Observation space:', env.observation_space)\n",
    "discrete_action_space = isinstance(env.action_space, gym.spaces.Discrete)\n",
    "discrete_observation_space = isinstance(env.observation_space, gym.spaces.Discrete)\n",
    "print('Action space discrete:', discrete_action_space)\n",
    "print('Observation space discrete:', discrete_observation_space)\n",
    "\n",
    "# Initialize the state-action value(Q) table\n",
    "q_table = np.zeros([env.observation_space.n, env.action_space.n])\n",
    "print('Q-table shape: {}x{} intialized with zeros'.format(q_table.shape[0],q_table.shape[1]))\n",
    "\n",
    "# -- hyper --\n",
    "num_episodes = 20000\n",
    "alpha = 0.1\n",
    "gamma = 0.8\n",
    "epsilon = 0.7\n",
    "\n",
    "# Save the sum of rewards and steps on each episode\n",
    "arr_steps = np.zeros((num_episodes))\n",
    "arr_rewards = np.zeros((num_episodes))"
   ]
  },
  {
   "cell_type": "markdown",
   "metadata": {},
   "source": [
    "### Q-Learning training Loop"
   ]
  },
  {
   "cell_type": "code",
   "execution_count": 11,
   "metadata": {},
   "outputs": [
    {
     "name": "stdout",
     "output_type": "stream",
     "text": [
      "[1 2 1 3 0 0 2 0 3 1 0 0 0 2 1 0]\n",
      "[[0.019209 0.022842 0.01878  0.017514]\n",
      " [0.01189  0.015494 0.021484 0.020749]\n",
      " [0.03552  0.044211 0.033293 0.01999 ]\n",
      " [0.011877 0.011556 0.012665 0.024281]\n",
      " [0.039081 0.024159 0.019784 0.014709]\n",
      " [0.       0.       0.       0.      ]\n",
      " [0.023686 0.071984 0.080052 0.011193]\n",
      " [0.       0.       0.       0.      ]\n",
      " [0.026615 0.040828 0.036773 0.064297]\n",
      " [0.037163 0.144593 0.119669 0.105413]\n",
      " [0.259903 0.206619 0.134501 0.041759]\n",
      " [0.       0.       0.       0.      ]\n",
      " [0.       0.       0.       0.      ]\n",
      " [0.12535  0.241515 0.279937 0.159463]\n",
      " [0.294604 0.556083 0.52747  0.489853]\n",
      " [0.       0.       0.       0.      ]]\n",
      "-------------------------------\n"
     ]
    }
   ],
   "source": [
    "# Iterate num_episodes\n",
    "for i in range(1, num_episodes):\n",
    "    \n",
    "    state = env.reset()\n",
    "    # Init Vars\n",
    "    steps, penalties, reward, = 0, 0, 0\n",
    "    done = False\n",
    "\n",
    "    # Run an episode from begining to end(With many steps)\n",
    "    while not done:\n",
    "        # Epsilon-Greedy, sometimes we play random, sometimes we play greedy\n",
    "        if random.uniform(0, 1) < epsilon:\n",
    "            # Sample something from the action space\n",
    "            action = env.action_space.sample()\n",
    "        else:\n",
    "            # Just act greedly\n",
    "            action = np.argmax(q_table[state])\n",
    "            \n",
    "        # Commincate with the enviroment (Act and get state, and rewards)\n",
    "        next_state, reward, done, info = env.step(action)\n",
    "        \n",
    "        old_value = q_table[state,action]\n",
    "        q_table[state,action] = Q_value_update(alpha, gamma, reward, old_value, next_state, q_table)        \n",
    "        state = next_state   \n",
    "        steps += 1\n",
    "        \n",
    "        # Save some information for graphs\n",
    "        arr_rewards[i] += reward\n",
    "    \n",
    "    # Store the number of steps on the episode\n",
    "    arr_steps[i] = steps \n",
    "\n",
    "    # Just display the current episode (Each episode could have multiple steps)\n",
    "    if i % 100 == 0:\n",
    "        print(\"Episode: {}/{}\".format(i,num_episodes))\n",
    "        clear_output(wait=True)\n",
    "\n",
    "print(np.argmax(q_table,axis=1))\n",
    "print(np.around(q_table,6))\n",
    "print('-------------------------------')"
   ]
  },
  {
   "cell_type": "markdown",
   "metadata": {},
   "source": [
    "### Display some training information"
   ]
  },
  {
   "cell_type": "code",
   "execution_count": 12,
   "metadata": {},
   "outputs": [
    {
     "data": {
      "image/png": "[encoded data removed]",
      "text/plain": [
       "<Figure size 432x288 with 1 Axes>"
      ]
     },
     "metadata": {
      "needs_background": "light"
     },
     "output_type": "display_data"
    },
    {
     "data": {
      "image/png": "[encoded data removed]",
      "text/plain": [
       "<Figure size 432x288 with 1 Axes>"
      ]
     },
     "metadata": {
      "needs_background": "light"
     },
     "output_type": "display_data"
    }
   ],
   "source": [
    "plt.plot(arr_rewards)\n",
    "plt.title('Total Reward per Episode')\n",
    "plt.ylabel('Total Rewards')\n",
    "plt.xlabel('Episodes')\n",
    "plt.show()\n",
    "\n",
    "plt.plot(arr_steps)\n",
    "plt.title('Number of steps per Episode')\n",
    "plt.ylabel('Steps')\n",
    "plt.xlabel('Episodes')\n",
    "plt.show()"
   ]
  },
  {
   "cell_type": "markdown",
   "metadata": {},
   "source": [
    "### Agent after training"
   ]
  },
  {
   "cell_type": "code",
   "execution_count": 14,
   "metadata": {},
   "outputs": [
    {
     "name": "stdout",
     "output_type": "stream",
     "text": [
      "Step: 33\n"
     ]
    }
   ],
   "source": [
    "state = env.reset()\n",
    "done = False\n",
    "step = 0\n",
    "while not done:\n",
    "    action = np.argmax(q_table[state])\n",
    "    next_state, reward, done, info = env.step(action)\n",
    "    state = next_state\n",
    "    step += 1\n",
    "    print(\"Step: {}\".format(step))\n",
    "    env.render()\n",
    "    clear_output(wait=True)\n",
    "    time.sleep(0.2)"
   ]
  }
 ],
 "metadata": {
  "kernelspec": {
   "display_name": "Python 3",
   "language": "python",
   "name": "python3"
  },
  "language_info": {
   "codemirror_mode": {
    "name": "ipython",
    "version": 3
   },
   "file_extension": ".py",
   "mimetype": "text/x-python",
   "name": "python",
   "nbconvert_exporter": "python",
   "pygments_lexer": "ipython3",
   "version": "3.8.5"
  }
 },
 "nbformat": 4,
 "nbformat_minor": 4
}
