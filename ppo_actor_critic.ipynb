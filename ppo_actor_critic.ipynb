{
 "cells": [
  {
   "cell_type": "markdown",
   "metadata": {},
   "source": [
    "# Proximal Policy Optimization (PPO) on Lunar Lander\n",
    "This notebook will show how to implement PPO on pytorch with the lunar lander.\n",
    "![alt text](imgs/actor_critic_lunar.png \"Game\")\n",
    "\n",
    "### Actor\n",
    "![alt text](imgs/actor.png \"Game\")\n",
    "\n",
    "### Critic\n",
    "This network will give the value of taking an action on some particular state.\n",
    "![alt text](imgs/critic.png \"Game\")\n",
    "\n",
    "### References\n",
    "* [Introduction Video 1](https://www.youtube.com/watch?v=5P7I-xPq8u8)\n",
    "* [PPO Article](https://www.neuralnet.ai/a-crash-course-in-proximal-policy-optimization/)\n",
    "* [Tensorflow Example](https://pylessons.com/LunarLander-v2-PPO)\n",
    "* [Video PPO with Pytorch](https://www.youtube.com/watch?v=hlv79rcHws0)\n",
    "* [Old but very good reference](https://github.com/higgsfield/RL-Adventure-2)\n",
    "* [Coding PPO from Scratch](https://medium.com/analytics-vidhya/coding-ppo-from-scratch-with-pytorch-part-1-4-613dfc1b14c8)"
   ]
  },
  {
   "cell_type": "code",
   "execution_count": 1,
   "metadata": {},
   "outputs": [],
   "source": [
    "import numpy as np\n",
    "import torch\n",
    "import gym\n",
    "from matplotlib import pyplot as plt\n",
    "import pandas as pd\n",
    "\n",
    "import torch\n",
    "import torch.nn as nn\n",
    "import torch.optim as optim\n",
    "import torch.nn.functional as F\n",
    "from torch.distributions import Categorical\n",
    "\n",
    "num_episodes = 100000\n",
    "t_max=5000\n",
    "\n",
    "def save_best_model(model, file='ppo_best.pth.tar'):\n",
    "    # save the model\n",
    "    torch.save(model, file)"
   ]
  },
  {
   "cell_type": "code",
   "execution_count": null,
   "metadata": {},
   "outputs": [],
   "source": []
  }
 ],
 "metadata": {
  "kernelspec": {
   "display_name": "Python 3",
   "language": "python",
   "name": "python3"
  },
  "language_info": {
   "codemirror_mode": {
    "name": "ipython",
    "version": 3
   },
   "file_extension": ".py",
   "mimetype": "text/x-python",
   "name": "python",
   "nbconvert_exporter": "python",
   "pygments_lexer": "ipython3",
   "version": "3.8.5"
  }
 },
 "nbformat": 4,
 "nbformat_minor": 4
}
